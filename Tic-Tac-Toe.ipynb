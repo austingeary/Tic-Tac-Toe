{
 "cells": [
  {
   "cell_type": "markdown",
   "metadata": {},
   "source": [
    "### 1. Create the board"
   ]
  },
  {
   "cell_type": "code",
   "execution_count": 1,
   "metadata": {},
   "outputs": [
    {
     "data": {
      "text/plain": [
       "[[' ', ' ', ' '], [' ', ' ', ' '], [' ', ' ', ' ']]"
      ]
     },
     "execution_count": 1,
     "metadata": {},
     "output_type": "execute_result"
    }
   ],
   "source": [
    "def create_empty_board():\n",
    "    return [[' ',' ', ' '],[' ',' ',' '],[' ',' ',' ']]\n",
    "create_empty_board()"
   ]
  },
  {
   "cell_type": "markdown",
   "metadata": {},
   "source": [
    "### 2. Output the board"
   ]
  },
  {
   "cell_type": "code",
   "execution_count": 2,
   "metadata": {},
   "outputs": [
    {
     "name": "stdout",
     "output_type": "stream",
     "text": [
      "[' ', ' ', ' ']\n",
      "[' ', ' ', ' ']\n",
      "[' ', ' ', ' ']\n"
     ]
    }
   ],
   "source": [
    "def output_board(board):\n",
    "    for row in board:\n",
    "        print(row)\n",
    "output_board(create_empty_board())"
   ]
  },
  {
   "cell_type": "markdown",
   "metadata": {},
   "source": [
    "### 3. Validate row and column number"
   ]
  },
  {
   "cell_type": "code",
   "execution_count": 3,
   "metadata": {},
   "outputs": [
    {
     "data": {
      "text/plain": [
       "False"
      ]
     },
     "execution_count": 3,
     "metadata": {},
     "output_type": "execute_result"
    }
   ],
   "source": [
    "def is_valid_rc(val):\n",
    "    if val in [0, 1, 2]:\n",
    "        return True\n",
    "    else:\n",
    "        return False\n",
    "is_valid_rc(7)"
   ]
  },
  {
   "cell_type": "markdown",
   "metadata": {},
   "source": [
    "### 4. Validate mark"
   ]
  },
  {
   "cell_type": "code",
   "execution_count": 4,
   "metadata": {},
   "outputs": [
    {
     "data": {
      "text/plain": [
       "False"
      ]
     },
     "execution_count": 4,
     "metadata": {},
     "output_type": "execute_result"
    }
   ],
   "source": [
    "def is_valid_mark(mark):\n",
    "    if mark in ['x', 'o']:\n",
    "        return True\n",
    "    else:\n",
    "        return False\n",
    "is_valid_mark('f')"
   ]
  },
  {
   "cell_type": "markdown",
   "metadata": {},
   "source": [
    "### 5. Validate open position"
   ]
  },
  {
   "cell_type": "code",
   "execution_count": 5,
   "metadata": {},
   "outputs": [],
   "source": [
    "def is_position_open(board, row, col):\n",
    "    if board[row][col] == ' ':\n",
    "        return True\n",
    "    else:\n",
    "        return False"
   ]
  },
  {
   "cell_type": "markdown",
   "metadata": {},
   "source": [
    "### 6. Validate all"
   ]
  },
  {
   "cell_type": "code",
   "execution_count": 6,
   "metadata": {},
   "outputs": [],
   "source": [
    "def is_valid_all(board, mark, row, col):\n",
    "    if not is_valid_rc(row):\n",
    "        print(f'Row {row} does not exist. Choose a row 0-2')\n",
    "        return False\n",
    "    if not is_valid_rc(col):\n",
    "        print(f'Column {col} does not exist. Choose a column 0-2')\n",
    "        return False\n",
    "    if not is_valid_mark(mark):\n",
    "        print(f'What is a {mark}? Whose team are you on anyway?')\n",
    "        return False\n",
    "    if not is_position_open(board, row, col):\n",
    "        print(f'I am sure you would love to choose that spot, but it is already taken.')\n",
    "        return False\n",
    "    return True"
   ]
  },
  {
   "cell_type": "markdown",
   "metadata": {},
   "source": [
    "### 7. Check for a row winner"
   ]
  },
  {
   "cell_type": "code",
   "execution_count": 7,
   "metadata": {},
   "outputs": [],
   "source": [
    "def is_row_winner(board, row, mark):\n",
    "    for col in board[row]:\n",
    "        if col != mark:\n",
    "            return False\n",
    "    return True"
   ]
  },
  {
   "cell_type": "markdown",
   "metadata": {},
   "source": [
    "### 8. Check for a column winner"
   ]
  },
  {
   "cell_type": "code",
   "execution_count": 8,
   "metadata": {},
   "outputs": [],
   "source": [
    "def is_col_winner(board, col, mark):\n",
    "    for row in board:\n",
    "        if row[col] != mark:\n",
    "            return False\n",
    "    return True"
   ]
  },
  {
   "cell_type": "markdown",
   "metadata": {},
   "source": [
    "### 9. Check whether the board has a diagonal winner"
   ]
  },
  {
   "cell_type": "code",
   "execution_count": 9,
   "metadata": {},
   "outputs": [],
   "source": [
    "def is_diag_winner(board, mark):\n",
    "    #Forward diagonal check\n",
    "    if board[2][0] == mark and board[1][1] == mark and board[0][2] == mark:\n",
    "        return True\n",
    "    #Backward diagonal check\n",
    "    if board[0][0] == mark and board[1][1] == mark and board[2][2] == mark:\n",
    "        return True\n",
    "    return False"
   ]
  },
  {
   "cell_type": "markdown",
   "metadata": {},
   "source": [
    "### 10. Check for a winner"
   ]
  },
  {
   "cell_type": "code",
   "execution_count": 10,
   "metadata": {},
   "outputs": [],
   "source": [
    "def is_winner(board, mark, row, col):\n",
    "    if is_row_winner(board, row, mark) or is_col_winner(board, col, mark) or is_diag_winner(board, mark):\n",
    "        return True\n",
    "    else:\n",
    "        return False"
   ]
  },
  {
   "cell_type": "markdown",
   "metadata": {},
   "source": [
    "### 11. Check for a cats game"
   ]
  },
  {
   "cell_type": "code",
   "execution_count": 11,
   "metadata": {},
   "outputs": [],
   "source": [
    "def is_cats_game(board):\n",
    "    for row in board:\n",
    "        for col in row:\n",
    "            if col == ' ':\n",
    "                return False\n",
    "    return True"
   ]
  },
  {
   "cell_type": "markdown",
   "metadata": {},
   "source": [
    "### 12. Check for end of game"
   ]
  },
  {
   "cell_type": "code",
   "execution_count": 12,
   "metadata": {},
   "outputs": [],
   "source": [
    "def is_game_end(board, row, col):\n",
    "    if is_winner(board, 'x', row, col):\n",
    "        print(f'Team X has won the bout!')\n",
    "        return True\n",
    "    if is_winner(board, 'o', row, col):\n",
    "        print(f'Team O has won the bout!')\n",
    "        return True\n",
    "    if is_cats_game(board):\n",
    "        print(f'I did not know it was called a cats game... I thought it was just a tie.')\n",
    "        return True\n",
    "    return False"
   ]
  },
  {
   "cell_type": "markdown",
   "metadata": {},
   "source": [
    "### 13. Game play"
   ]
  },
  {
   "cell_type": "code",
   "execution_count": 13,
   "metadata": {},
   "outputs": [],
   "source": [
    "def play(board, mark, row, col):\n",
    "    #Is the move valid?\n",
    "    if is_valid_all(board, mark, row, col):\n",
    "        #Update the board by placing the mark\n",
    "        board[row][col] = mark\n",
    "        #Print updated board\n",
    "        output_board(board)\n",
    "        #Print message if the game is over\n",
    "        is_game_end(board, row, col)"
   ]
  },
  {
   "cell_type": "markdown",
   "metadata": {},
   "source": [
    "## Play a game"
   ]
  },
  {
   "cell_type": "code",
   "execution_count": 14,
   "metadata": {},
   "outputs": [],
   "source": [
    "board = create_empty_board()"
   ]
  },
  {
   "cell_type": "code",
   "execution_count": 15,
   "metadata": {},
   "outputs": [
    {
     "name": "stdout",
     "output_type": "stream",
     "text": [
      "[' ', ' ', ' ']\n",
      "[' ', 'x', ' ']\n",
      "[' ', ' ', ' ']\n"
     ]
    }
   ],
   "source": [
    "play(board, 'x', 1, 1)"
   ]
  }
 ],
 "metadata": {
  "kernelspec": {
   "display_name": "Python 3",
   "language": "python",
   "name": "python3"
  },
  "language_info": {
   "codemirror_mode": {
    "name": "ipython",
    "version": 3
   },
   "file_extension": ".py",
   "mimetype": "text/x-python",
   "name": "python",
   "nbconvert_exporter": "python",
   "pygments_lexer": "ipython3",
   "version": "3.7.5"
  }
 },
 "nbformat": 4,
 "nbformat_minor": 2
}
